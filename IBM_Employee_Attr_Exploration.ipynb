{
 "cells": [
  {
   "cell_type": "markdown",
   "id": "2f73260a",
   "metadata": {},
   "source": [
    "# IBM's Employee Attrition Exploration\n",
    "# by Eniola Ogunmona"
   ]
  },
  {
   "cell_type": "markdown",
   "id": "e321dd9c",
   "metadata": {},
   "source": [
    "## Table of Contents\n",
    "1. [Introduction](#Intro)\n",
    "2. [Data Wrangling](#wrangle)\n",
    "3. [Explortory Data Analysis](#eda)\n",
    "4. [Research Question 1](#1)\n",
    "5. [Research Question 2](#2)\n",
    "6. [Research Question 3](#3)\n",
    "7. [Research Question 4](#4)\n",
    "8. [Research Question 5](#5)\n",
    "9. [Conclusion](#conclusion)"
   ]
  },
  {
   "cell_type": "markdown",
   "id": "823a4020",
   "metadata": {},
   "source": [
    "<a id=\"Intro\"></a>\n",
    "## Introduction\n",
    "\n",
    "This document explores a dataset containing information relating to employee attrition including attrition, monthly income, job satisfaction, performance rating, age, no. of years worked.\n",
    "Employee attrition is when an employee ceases working for a company for any reason and is not replaced for a long time.\n",
    "\n",
    "> **Questions explored in this notebook**:\n",
    "> + What are the factors behind employee attrition?\n",
    "> + What is the relationship between Education and Monthly Income?\n",
    "> + What is the effect of age on attrition?\n",
    "> + Is Income the main factor towards employee attrition?\n",
    "> + How does work-life balance impact the overall attrition rate?"
   ]
  },
  {
   "cell_type": "markdown",
   "id": "ce5e9650",
   "metadata": {},
   "source": [
    "<a id=\"wrangle\"></a>\n",
    "## Data Wrangling"
   ]
  },
  {
   "cell_type": "code",
   "execution_count": 34,
   "id": "e8fe4b9b",
   "metadata": {},
   "outputs": [],
   "source": [
    "# Importing useful libraries\n",
    "\n",
    "import sqlite3\n",
    "import pandas as pd\n",
    "import numpy as np\n",
    "import matplotlib.pyplot as plt\n",
    "import seaborn as sns\n",
    "sns.set_style(\"darkgrid\")\n",
    "sns.set_palette(\"mako\") \n",
    "default_color = sns.color_palette()[1]\n",
    "%matplotlib inline"
   ]
  },
  {
   "cell_type": "markdown",
   "id": "64a572f9",
   "metadata": {},
   "source": [
    "### Data Gathering\n",
    "The data for this exploration will be gathered and loaded from an SQL database."
   ]
  },
  {
   "cell_type": "code",
   "execution_count": 35,
   "id": "fa78ed48",
   "metadata": {
    "scrolled": true
   },
   "outputs": [],
   "source": [
    "# Gathering the data from the database\n",
    "path =\"attr_data.db\"\n",
    "conn = sqlite3.connect(path)\n",
    "cur = conn.cursor()\n",
    "\n",
    "attr_df = pd.read_sql_query ('''\n",
    "                               SELECT *\n",
    "                               FROM attrition_records\n",
    "                               ''', conn)"
   ]
  },
  {
   "cell_type": "code",
   "execution_count": 36,
   "id": "1fff8734",
   "metadata": {},
   "outputs": [
    {
     "data": {
      "text/html": [
       "<div>\n",
       "<style scoped>\n",
       "    .dataframe tbody tr th:only-of-type {\n",
       "        vertical-align: middle;\n",
       "    }\n",
       "\n",
       "    .dataframe tbody tr th {\n",
       "        vertical-align: top;\n",
       "    }\n",
       "\n",
       "    .dataframe thead th {\n",
       "        text-align: right;\n",
       "    }\n",
       "</style>\n",
       "<table border=\"1\" class=\"dataframe\">\n",
       "  <thead>\n",
       "    <tr style=\"text-align: right;\">\n",
       "      <th></th>\n",
       "      <th>id</th>\n",
       "      <th>Age</th>\n",
       "      <th>Attrition</th>\n",
       "      <th>BusinessTravel</th>\n",
       "      <th>DailyRate</th>\n",
       "      <th>Department</th>\n",
       "      <th>DistanceFromHome</th>\n",
       "      <th>Education</th>\n",
       "      <th>EducationField</th>\n",
       "      <th>EmployeeCount</th>\n",
       "      <th>...</th>\n",
       "      <th>RelationshipSatisfaction</th>\n",
       "      <th>StandardHours</th>\n",
       "      <th>StockOptionLevel</th>\n",
       "      <th>TotalWorkingYears</th>\n",
       "      <th>TrainingTimesLastYear</th>\n",
       "      <th>WorkLifeBalance</th>\n",
       "      <th>YearsAtCompany</th>\n",
       "      <th>YearsInCurrentRole</th>\n",
       "      <th>YearsSinceLastPromotion</th>\n",
       "      <th>YearsWithCurrManager</th>\n",
       "    </tr>\n",
       "  </thead>\n",
       "  <tbody>\n",
       "    <tr>\n",
       "      <th>797</th>\n",
       "      <td>798</td>\n",
       "      <td>26</td>\n",
       "      <td>Yes</td>\n",
       "      <td>Travel_Rarely</td>\n",
       "      <td>1330</td>\n",
       "      <td>Research &amp; Development</td>\n",
       "      <td>21</td>\n",
       "      <td>3</td>\n",
       "      <td>Medical</td>\n",
       "      <td>1</td>\n",
       "      <td>...</td>\n",
       "      <td>3</td>\n",
       "      <td>80</td>\n",
       "      <td>1</td>\n",
       "      <td>1</td>\n",
       "      <td>0</td>\n",
       "      <td>2</td>\n",
       "      <td>1</td>\n",
       "      <td>1</td>\n",
       "      <td>0</td>\n",
       "      <td>0</td>\n",
       "    </tr>\n",
       "    <tr>\n",
       "      <th>1302</th>\n",
       "      <td>1303</td>\n",
       "      <td>35</td>\n",
       "      <td>No</td>\n",
       "      <td>Travel_Rarely</td>\n",
       "      <td>185</td>\n",
       "      <td>Research &amp; Development</td>\n",
       "      <td>23</td>\n",
       "      <td>4</td>\n",
       "      <td>Medical</td>\n",
       "      <td>1</td>\n",
       "      <td>...</td>\n",
       "      <td>2</td>\n",
       "      <td>80</td>\n",
       "      <td>1</td>\n",
       "      <td>6</td>\n",
       "      <td>2</td>\n",
       "      <td>4</td>\n",
       "      <td>5</td>\n",
       "      <td>4</td>\n",
       "      <td>0</td>\n",
       "      <td>3</td>\n",
       "    </tr>\n",
       "    <tr>\n",
       "      <th>219</th>\n",
       "      <td>220</td>\n",
       "      <td>54</td>\n",
       "      <td>No</td>\n",
       "      <td>Travel_Rarely</td>\n",
       "      <td>1147</td>\n",
       "      <td>Sales</td>\n",
       "      <td>3</td>\n",
       "      <td>3</td>\n",
       "      <td>Marketing</td>\n",
       "      <td>1</td>\n",
       "      <td>...</td>\n",
       "      <td>4</td>\n",
       "      <td>80</td>\n",
       "      <td>1</td>\n",
       "      <td>16</td>\n",
       "      <td>4</td>\n",
       "      <td>3</td>\n",
       "      <td>6</td>\n",
       "      <td>2</td>\n",
       "      <td>0</td>\n",
       "      <td>5</td>\n",
       "    </tr>\n",
       "    <tr>\n",
       "      <th>200</th>\n",
       "      <td>201</td>\n",
       "      <td>27</td>\n",
       "      <td>No</td>\n",
       "      <td>Travel_Frequently</td>\n",
       "      <td>472</td>\n",
       "      <td>Research &amp; Development</td>\n",
       "      <td>1</td>\n",
       "      <td>1</td>\n",
       "      <td>Technical Degree</td>\n",
       "      <td>1</td>\n",
       "      <td>...</td>\n",
       "      <td>3</td>\n",
       "      <td>80</td>\n",
       "      <td>1</td>\n",
       "      <td>6</td>\n",
       "      <td>1</td>\n",
       "      <td>3</td>\n",
       "      <td>2</td>\n",
       "      <td>2</td>\n",
       "      <td>2</td>\n",
       "      <td>0</td>\n",
       "    </tr>\n",
       "    <tr>\n",
       "      <th>1415</th>\n",
       "      <td>1416</td>\n",
       "      <td>33</td>\n",
       "      <td>No</td>\n",
       "      <td>Non-Travel</td>\n",
       "      <td>1313</td>\n",
       "      <td>Research &amp; Development</td>\n",
       "      <td>1</td>\n",
       "      <td>2</td>\n",
       "      <td>Medical</td>\n",
       "      <td>1</td>\n",
       "      <td>...</td>\n",
       "      <td>3</td>\n",
       "      <td>80</td>\n",
       "      <td>3</td>\n",
       "      <td>1</td>\n",
       "      <td>2</td>\n",
       "      <td>2</td>\n",
       "      <td>1</td>\n",
       "      <td>1</td>\n",
       "      <td>0</td>\n",
       "      <td>0</td>\n",
       "    </tr>\n",
       "    <tr>\n",
       "      <th>557</th>\n",
       "      <td>558</td>\n",
       "      <td>35</td>\n",
       "      <td>No</td>\n",
       "      <td>Non-Travel</td>\n",
       "      <td>1225</td>\n",
       "      <td>Research &amp; Development</td>\n",
       "      <td>2</td>\n",
       "      <td>4</td>\n",
       "      <td>Life Sciences</td>\n",
       "      <td>1</td>\n",
       "      <td>...</td>\n",
       "      <td>1</td>\n",
       "      <td>80</td>\n",
       "      <td>1</td>\n",
       "      <td>16</td>\n",
       "      <td>2</td>\n",
       "      <td>4</td>\n",
       "      <td>1</td>\n",
       "      <td>0</td>\n",
       "      <td>0</td>\n",
       "      <td>0</td>\n",
       "    </tr>\n",
       "    <tr>\n",
       "      <th>327</th>\n",
       "      <td>328</td>\n",
       "      <td>39</td>\n",
       "      <td>Yes</td>\n",
       "      <td>Travel_Rarely</td>\n",
       "      <td>1162</td>\n",
       "      <td>Sales</td>\n",
       "      <td>3</td>\n",
       "      <td>2</td>\n",
       "      <td>Medical</td>\n",
       "      <td>1</td>\n",
       "      <td>...</td>\n",
       "      <td>1</td>\n",
       "      <td>80</td>\n",
       "      <td>0</td>\n",
       "      <td>12</td>\n",
       "      <td>3</td>\n",
       "      <td>2</td>\n",
       "      <td>1</td>\n",
       "      <td>0</td>\n",
       "      <td>0</td>\n",
       "      <td>0</td>\n",
       "    </tr>\n",
       "    <tr>\n",
       "      <th>1442</th>\n",
       "      <td>1443</td>\n",
       "      <td>29</td>\n",
       "      <td>Yes</td>\n",
       "      <td>Travel_Rarely</td>\n",
       "      <td>1092</td>\n",
       "      <td>Research &amp; Development</td>\n",
       "      <td>1</td>\n",
       "      <td>4</td>\n",
       "      <td>Medical</td>\n",
       "      <td>1</td>\n",
       "      <td>...</td>\n",
       "      <td>2</td>\n",
       "      <td>80</td>\n",
       "      <td>3</td>\n",
       "      <td>4</td>\n",
       "      <td>3</td>\n",
       "      <td>4</td>\n",
       "      <td>2</td>\n",
       "      <td>2</td>\n",
       "      <td>2</td>\n",
       "      <td>2</td>\n",
       "    </tr>\n",
       "    <tr>\n",
       "      <th>1107</th>\n",
       "      <td>1108</td>\n",
       "      <td>38</td>\n",
       "      <td>No</td>\n",
       "      <td>Travel_Frequently</td>\n",
       "      <td>888</td>\n",
       "      <td>Human Resources</td>\n",
       "      <td>10</td>\n",
       "      <td>4</td>\n",
       "      <td>Human Resources</td>\n",
       "      <td>1</td>\n",
       "      <td>...</td>\n",
       "      <td>3</td>\n",
       "      <td>80</td>\n",
       "      <td>0</td>\n",
       "      <td>10</td>\n",
       "      <td>2</td>\n",
       "      <td>3</td>\n",
       "      <td>6</td>\n",
       "      <td>3</td>\n",
       "      <td>1</td>\n",
       "      <td>2</td>\n",
       "    </tr>\n",
       "    <tr>\n",
       "      <th>1123</th>\n",
       "      <td>1124</td>\n",
       "      <td>35</td>\n",
       "      <td>No</td>\n",
       "      <td>Travel_Rarely</td>\n",
       "      <td>670</td>\n",
       "      <td>Research &amp; Development</td>\n",
       "      <td>10</td>\n",
       "      <td>4</td>\n",
       "      <td>Medical</td>\n",
       "      <td>1</td>\n",
       "      <td>...</td>\n",
       "      <td>3</td>\n",
       "      <td>80</td>\n",
       "      <td>0</td>\n",
       "      <td>10</td>\n",
       "      <td>4</td>\n",
       "      <td>3</td>\n",
       "      <td>5</td>\n",
       "      <td>2</td>\n",
       "      <td>0</td>\n",
       "      <td>4</td>\n",
       "    </tr>\n",
       "  </tbody>\n",
       "</table>\n",
       "<p>10 rows × 36 columns</p>\n",
       "</div>"
      ],
      "text/plain": [
       "        id  Age Attrition     BusinessTravel  DailyRate  \\\n",
       "797    798   26       Yes      Travel_Rarely       1330   \n",
       "1302  1303   35        No      Travel_Rarely        185   \n",
       "219    220   54        No      Travel_Rarely       1147   \n",
       "200    201   27        No  Travel_Frequently        472   \n",
       "1415  1416   33        No         Non-Travel       1313   \n",
       "557    558   35        No         Non-Travel       1225   \n",
       "327    328   39       Yes      Travel_Rarely       1162   \n",
       "1442  1443   29       Yes      Travel_Rarely       1092   \n",
       "1107  1108   38        No  Travel_Frequently        888   \n",
       "1123  1124   35        No      Travel_Rarely        670   \n",
       "\n",
       "                  Department  DistanceFromHome  Education    EducationField  \\\n",
       "797   Research & Development                21          3           Medical   \n",
       "1302  Research & Development                23          4           Medical   \n",
       "219                    Sales                 3          3         Marketing   \n",
       "200   Research & Development                 1          1  Technical Degree   \n",
       "1415  Research & Development                 1          2           Medical   \n",
       "557   Research & Development                 2          4     Life Sciences   \n",
       "327                    Sales                 3          2           Medical   \n",
       "1442  Research & Development                 1          4           Medical   \n",
       "1107         Human Resources                10          4   Human Resources   \n",
       "1123  Research & Development                10          4           Medical   \n",
       "\n",
       "      EmployeeCount  ...  RelationshipSatisfaction  StandardHours  \\\n",
       "797               1  ...                         3             80   \n",
       "1302              1  ...                         2             80   \n",
       "219               1  ...                         4             80   \n",
       "200               1  ...                         3             80   \n",
       "1415              1  ...                         3             80   \n",
       "557               1  ...                         1             80   \n",
       "327               1  ...                         1             80   \n",
       "1442              1  ...                         2             80   \n",
       "1107              1  ...                         3             80   \n",
       "1123              1  ...                         3             80   \n",
       "\n",
       "     StockOptionLevel  TotalWorkingYears  TrainingTimesLastYear  \\\n",
       "797                 1                  1                      0   \n",
       "1302                1                  6                      2   \n",
       "219                 1                 16                      4   \n",
       "200                 1                  6                      1   \n",
       "1415                3                  1                      2   \n",
       "557                 1                 16                      2   \n",
       "327                 0                 12                      3   \n",
       "1442                3                  4                      3   \n",
       "1107                0                 10                      2   \n",
       "1123                0                 10                      4   \n",
       "\n",
       "      WorkLifeBalance YearsAtCompany  YearsInCurrentRole  \\\n",
       "797                 2              1                   1   \n",
       "1302                4              5                   4   \n",
       "219                 3              6                   2   \n",
       "200                 3              2                   2   \n",
       "1415                2              1                   1   \n",
       "557                 4              1                   0   \n",
       "327                 2              1                   0   \n",
       "1442                4              2                   2   \n",
       "1107                3              6                   3   \n",
       "1123                3              5                   2   \n",
       "\n",
       "     YearsSinceLastPromotion  YearsWithCurrManager  \n",
       "797                        0                     0  \n",
       "1302                       0                     3  \n",
       "219                        0                     5  \n",
       "200                        2                     0  \n",
       "1415                       0                     0  \n",
       "557                        0                     0  \n",
       "327                        0                     0  \n",
       "1442                       2                     2  \n",
       "1107                       1                     2  \n",
       "1123                       0                     4  \n",
       "\n",
       "[10 rows x 36 columns]"
      ]
     },
     "execution_count": 36,
     "metadata": {},
     "output_type": "execute_result"
    }
   ],
   "source": [
    "# let's see a sample of the dataset\n",
    "attr_df.sample(10)"
   ]
  },
  {
   "cell_type": "markdown",
   "id": "127a4c6c",
   "metadata": {},
   "source": [
    "### Assessing Data"
   ]
  },
  {
   "cell_type": "code",
   "execution_count": 37,
   "id": "c7131202",
   "metadata": {},
   "outputs": [
    {
     "data": {
      "text/plain": [
       "(1470, 36)"
      ]
     },
     "execution_count": 37,
     "metadata": {},
     "output_type": "execute_result"
    }
   ],
   "source": [
    "# What's the shape of the dataset\n",
    "attr_df.shape"
   ]
  },
  {
   "cell_type": "code",
   "execution_count": 38,
   "id": "120bc875",
   "metadata": {},
   "outputs": [
    {
     "name": "stdout",
     "output_type": "stream",
     "text": [
      "<class 'pandas.core.frame.DataFrame'>\n",
      "RangeIndex: 1470 entries, 0 to 1469\n",
      "Data columns (total 36 columns):\n",
      " #   Column                    Non-Null Count  Dtype \n",
      "---  ------                    --------------  ----- \n",
      " 0   id                        1470 non-null   int64 \n",
      " 1   Age                       1470 non-null   int64 \n",
      " 2   Attrition                 1470 non-null   object\n",
      " 3   BusinessTravel            1470 non-null   object\n",
      " 4   DailyRate                 1470 non-null   int64 \n",
      " 5   Department                1470 non-null   object\n",
      " 6   DistanceFromHome          1470 non-null   int64 \n",
      " 7   Education                 1470 non-null   int64 \n",
      " 8   EducationField            1470 non-null   object\n",
      " 9   EmployeeCount             1470 non-null   int64 \n",
      " 10  EmployeeNumber            1470 non-null   int64 \n",
      " 11  EnvironmentSatisfaction   1470 non-null   int64 \n",
      " 12  Gender                    1470 non-null   object\n",
      " 13  HourlyRate                1470 non-null   int64 \n",
      " 14  JobInvolvement            1470 non-null   int64 \n",
      " 15  JobLevel                  1470 non-null   int64 \n",
      " 16  JobRole                   1470 non-null   object\n",
      " 17  JobSatisfaction           1470 non-null   int64 \n",
      " 18  MaritalStatus             1470 non-null   object\n",
      " 19  MonthlyIncome             1470 non-null   int64 \n",
      " 20  MonthlyRate               1470 non-null   int64 \n",
      " 21  NumCompaniesWorked        1470 non-null   int64 \n",
      " 22  Over18                    1470 non-null   object\n",
      " 23  OverTime                  1470 non-null   object\n",
      " 24  PercentSalaryHike         1470 non-null   int64 \n",
      " 25  PerformanceRating         1470 non-null   int64 \n",
      " 26  RelationshipSatisfaction  1470 non-null   int64 \n",
      " 27  StandardHours             1470 non-null   int64 \n",
      " 28  StockOptionLevel          1470 non-null   int64 \n",
      " 29  TotalWorkingYears         1470 non-null   int64 \n",
      " 30  TrainingTimesLastYear     1470 non-null   int64 \n",
      " 31  WorkLifeBalance           1470 non-null   int64 \n",
      " 32  YearsAtCompany            1470 non-null   int64 \n",
      " 33  YearsInCurrentRole        1470 non-null   int64 \n",
      " 34  YearsSinceLastPromotion   1470 non-null   int64 \n",
      " 35  YearsWithCurrManager      1470 non-null   int64 \n",
      "dtypes: int64(27), object(9)\n",
      "memory usage: 413.6+ KB\n"
     ]
    }
   ],
   "source": [
    "# let's see some more details\n",
    "attr_df.info()"
   ]
  },
  {
   "cell_type": "code",
   "execution_count": 39,
   "id": "4224c849",
   "metadata": {},
   "outputs": [
    {
     "data": {
      "text/html": [
       "<div>\n",
       "<style scoped>\n",
       "    .dataframe tbody tr th:only-of-type {\n",
       "        vertical-align: middle;\n",
       "    }\n",
       "\n",
       "    .dataframe tbody tr th {\n",
       "        vertical-align: top;\n",
       "    }\n",
       "\n",
       "    .dataframe thead th {\n",
       "        text-align: right;\n",
       "    }\n",
       "</style>\n",
       "<table border=\"1\" class=\"dataframe\">\n",
       "  <thead>\n",
       "    <tr style=\"text-align: right;\">\n",
       "      <th></th>\n",
       "      <th>id</th>\n",
       "      <th>Age</th>\n",
       "      <th>DailyRate</th>\n",
       "      <th>DistanceFromHome</th>\n",
       "      <th>Education</th>\n",
       "      <th>EmployeeCount</th>\n",
       "      <th>EmployeeNumber</th>\n",
       "      <th>EnvironmentSatisfaction</th>\n",
       "      <th>HourlyRate</th>\n",
       "      <th>JobInvolvement</th>\n",
       "      <th>...</th>\n",
       "      <th>RelationshipSatisfaction</th>\n",
       "      <th>StandardHours</th>\n",
       "      <th>StockOptionLevel</th>\n",
       "      <th>TotalWorkingYears</th>\n",
       "      <th>TrainingTimesLastYear</th>\n",
       "      <th>WorkLifeBalance</th>\n",
       "      <th>YearsAtCompany</th>\n",
       "      <th>YearsInCurrentRole</th>\n",
       "      <th>YearsSinceLastPromotion</th>\n",
       "      <th>YearsWithCurrManager</th>\n",
       "    </tr>\n",
       "  </thead>\n",
       "  <tbody>\n",
       "    <tr>\n",
       "      <th>count</th>\n",
       "      <td>1470.000000</td>\n",
       "      <td>1470.000000</td>\n",
       "      <td>1470.000000</td>\n",
       "      <td>1470.000000</td>\n",
       "      <td>1470.000000</td>\n",
       "      <td>1470.0</td>\n",
       "      <td>1470.000000</td>\n",
       "      <td>1470.000000</td>\n",
       "      <td>1470.000000</td>\n",
       "      <td>1470.000000</td>\n",
       "      <td>...</td>\n",
       "      <td>1470.000000</td>\n",
       "      <td>1470.0</td>\n",
       "      <td>1470.000000</td>\n",
       "      <td>1470.000000</td>\n",
       "      <td>1470.000000</td>\n",
       "      <td>1470.000000</td>\n",
       "      <td>1470.000000</td>\n",
       "      <td>1470.000000</td>\n",
       "      <td>1470.000000</td>\n",
       "      <td>1470.000000</td>\n",
       "    </tr>\n",
       "    <tr>\n",
       "      <th>mean</th>\n",
       "      <td>735.500000</td>\n",
       "      <td>36.923810</td>\n",
       "      <td>802.485714</td>\n",
       "      <td>9.192517</td>\n",
       "      <td>2.912925</td>\n",
       "      <td>1.0</td>\n",
       "      <td>1024.865306</td>\n",
       "      <td>2.721769</td>\n",
       "      <td>65.891156</td>\n",
       "      <td>2.729932</td>\n",
       "      <td>...</td>\n",
       "      <td>2.712245</td>\n",
       "      <td>80.0</td>\n",
       "      <td>0.793878</td>\n",
       "      <td>11.279592</td>\n",
       "      <td>2.799320</td>\n",
       "      <td>2.761224</td>\n",
       "      <td>7.008163</td>\n",
       "      <td>4.229252</td>\n",
       "      <td>2.187755</td>\n",
       "      <td>4.123129</td>\n",
       "    </tr>\n",
       "    <tr>\n",
       "      <th>std</th>\n",
       "      <td>424.496761</td>\n",
       "      <td>9.135373</td>\n",
       "      <td>403.509100</td>\n",
       "      <td>8.106864</td>\n",
       "      <td>1.024165</td>\n",
       "      <td>0.0</td>\n",
       "      <td>602.024335</td>\n",
       "      <td>1.093082</td>\n",
       "      <td>20.329428</td>\n",
       "      <td>0.711561</td>\n",
       "      <td>...</td>\n",
       "      <td>1.081209</td>\n",
       "      <td>0.0</td>\n",
       "      <td>0.852077</td>\n",
       "      <td>7.780782</td>\n",
       "      <td>1.289271</td>\n",
       "      <td>0.706476</td>\n",
       "      <td>6.126525</td>\n",
       "      <td>3.623137</td>\n",
       "      <td>3.222430</td>\n",
       "      <td>3.568136</td>\n",
       "    </tr>\n",
       "    <tr>\n",
       "      <th>min</th>\n",
       "      <td>1.000000</td>\n",
       "      <td>18.000000</td>\n",
       "      <td>102.000000</td>\n",
       "      <td>1.000000</td>\n",
       "      <td>1.000000</td>\n",
       "      <td>1.0</td>\n",
       "      <td>1.000000</td>\n",
       "      <td>1.000000</td>\n",
       "      <td>30.000000</td>\n",
       "      <td>1.000000</td>\n",
       "      <td>...</td>\n",
       "      <td>1.000000</td>\n",
       "      <td>80.0</td>\n",
       "      <td>0.000000</td>\n",
       "      <td>0.000000</td>\n",
       "      <td>0.000000</td>\n",
       "      <td>1.000000</td>\n",
       "      <td>0.000000</td>\n",
       "      <td>0.000000</td>\n",
       "      <td>0.000000</td>\n",
       "      <td>0.000000</td>\n",
       "    </tr>\n",
       "    <tr>\n",
       "      <th>25%</th>\n",
       "      <td>368.250000</td>\n",
       "      <td>30.000000</td>\n",
       "      <td>465.000000</td>\n",
       "      <td>2.000000</td>\n",
       "      <td>2.000000</td>\n",
       "      <td>1.0</td>\n",
       "      <td>491.250000</td>\n",
       "      <td>2.000000</td>\n",
       "      <td>48.000000</td>\n",
       "      <td>2.000000</td>\n",
       "      <td>...</td>\n",
       "      <td>2.000000</td>\n",
       "      <td>80.0</td>\n",
       "      <td>0.000000</td>\n",
       "      <td>6.000000</td>\n",
       "      <td>2.000000</td>\n",
       "      <td>2.000000</td>\n",
       "      <td>3.000000</td>\n",
       "      <td>2.000000</td>\n",
       "      <td>0.000000</td>\n",
       "      <td>2.000000</td>\n",
       "    </tr>\n",
       "    <tr>\n",
       "      <th>50%</th>\n",
       "      <td>735.500000</td>\n",
       "      <td>36.000000</td>\n",
       "      <td>802.000000</td>\n",
       "      <td>7.000000</td>\n",
       "      <td>3.000000</td>\n",
       "      <td>1.0</td>\n",
       "      <td>1020.500000</td>\n",
       "      <td>3.000000</td>\n",
       "      <td>66.000000</td>\n",
       "      <td>3.000000</td>\n",
       "      <td>...</td>\n",
       "      <td>3.000000</td>\n",
       "      <td>80.0</td>\n",
       "      <td>1.000000</td>\n",
       "      <td>10.000000</td>\n",
       "      <td>3.000000</td>\n",
       "      <td>3.000000</td>\n",
       "      <td>5.000000</td>\n",
       "      <td>3.000000</td>\n",
       "      <td>1.000000</td>\n",
       "      <td>3.000000</td>\n",
       "    </tr>\n",
       "    <tr>\n",
       "      <th>75%</th>\n",
       "      <td>1102.750000</td>\n",
       "      <td>43.000000</td>\n",
       "      <td>1157.000000</td>\n",
       "      <td>14.000000</td>\n",
       "      <td>4.000000</td>\n",
       "      <td>1.0</td>\n",
       "      <td>1555.750000</td>\n",
       "      <td>4.000000</td>\n",
       "      <td>83.750000</td>\n",
       "      <td>3.000000</td>\n",
       "      <td>...</td>\n",
       "      <td>4.000000</td>\n",
       "      <td>80.0</td>\n",
       "      <td>1.000000</td>\n",
       "      <td>15.000000</td>\n",
       "      <td>3.000000</td>\n",
       "      <td>3.000000</td>\n",
       "      <td>9.000000</td>\n",
       "      <td>7.000000</td>\n",
       "      <td>3.000000</td>\n",
       "      <td>7.000000</td>\n",
       "    </tr>\n",
       "    <tr>\n",
       "      <th>max</th>\n",
       "      <td>1470.000000</td>\n",
       "      <td>60.000000</td>\n",
       "      <td>1499.000000</td>\n",
       "      <td>29.000000</td>\n",
       "      <td>5.000000</td>\n",
       "      <td>1.0</td>\n",
       "      <td>2068.000000</td>\n",
       "      <td>4.000000</td>\n",
       "      <td>100.000000</td>\n",
       "      <td>4.000000</td>\n",
       "      <td>...</td>\n",
       "      <td>4.000000</td>\n",
       "      <td>80.0</td>\n",
       "      <td>3.000000</td>\n",
       "      <td>40.000000</td>\n",
       "      <td>6.000000</td>\n",
       "      <td>4.000000</td>\n",
       "      <td>40.000000</td>\n",
       "      <td>18.000000</td>\n",
       "      <td>15.000000</td>\n",
       "      <td>17.000000</td>\n",
       "    </tr>\n",
       "  </tbody>\n",
       "</table>\n",
       "<p>8 rows × 27 columns</p>\n",
       "</div>"
      ],
      "text/plain": [
       "                id          Age    DailyRate  DistanceFromHome    Education  \\\n",
       "count  1470.000000  1470.000000  1470.000000       1470.000000  1470.000000   \n",
       "mean    735.500000    36.923810   802.485714          9.192517     2.912925   \n",
       "std     424.496761     9.135373   403.509100          8.106864     1.024165   \n",
       "min       1.000000    18.000000   102.000000          1.000000     1.000000   \n",
       "25%     368.250000    30.000000   465.000000          2.000000     2.000000   \n",
       "50%     735.500000    36.000000   802.000000          7.000000     3.000000   \n",
       "75%    1102.750000    43.000000  1157.000000         14.000000     4.000000   \n",
       "max    1470.000000    60.000000  1499.000000         29.000000     5.000000   \n",
       "\n",
       "       EmployeeCount  EmployeeNumber  EnvironmentSatisfaction   HourlyRate  \\\n",
       "count         1470.0     1470.000000              1470.000000  1470.000000   \n",
       "mean             1.0     1024.865306                 2.721769    65.891156   \n",
       "std              0.0      602.024335                 1.093082    20.329428   \n",
       "min              1.0        1.000000                 1.000000    30.000000   \n",
       "25%              1.0      491.250000                 2.000000    48.000000   \n",
       "50%              1.0     1020.500000                 3.000000    66.000000   \n",
       "75%              1.0     1555.750000                 4.000000    83.750000   \n",
       "max              1.0     2068.000000                 4.000000   100.000000   \n",
       "\n",
       "       JobInvolvement  ...  RelationshipSatisfaction  StandardHours  \\\n",
       "count     1470.000000  ...               1470.000000         1470.0   \n",
       "mean         2.729932  ...                  2.712245           80.0   \n",
       "std          0.711561  ...                  1.081209            0.0   \n",
       "min          1.000000  ...                  1.000000           80.0   \n",
       "25%          2.000000  ...                  2.000000           80.0   \n",
       "50%          3.000000  ...                  3.000000           80.0   \n",
       "75%          3.000000  ...                  4.000000           80.0   \n",
       "max          4.000000  ...                  4.000000           80.0   \n",
       "\n",
       "       StockOptionLevel  TotalWorkingYears  TrainingTimesLastYear  \\\n",
       "count       1470.000000        1470.000000            1470.000000   \n",
       "mean           0.793878          11.279592               2.799320   \n",
       "std            0.852077           7.780782               1.289271   \n",
       "min            0.000000           0.000000               0.000000   \n",
       "25%            0.000000           6.000000               2.000000   \n",
       "50%            1.000000          10.000000               3.000000   \n",
       "75%            1.000000          15.000000               3.000000   \n",
       "max            3.000000          40.000000               6.000000   \n",
       "\n",
       "       WorkLifeBalance  YearsAtCompany  YearsInCurrentRole  \\\n",
       "count      1470.000000     1470.000000         1470.000000   \n",
       "mean          2.761224        7.008163            4.229252   \n",
       "std           0.706476        6.126525            3.623137   \n",
       "min           1.000000        0.000000            0.000000   \n",
       "25%           2.000000        3.000000            2.000000   \n",
       "50%           3.000000        5.000000            3.000000   \n",
       "75%           3.000000        9.000000            7.000000   \n",
       "max           4.000000       40.000000           18.000000   \n",
       "\n",
       "       YearsSinceLastPromotion  YearsWithCurrManager  \n",
       "count              1470.000000           1470.000000  \n",
       "mean                  2.187755              4.123129  \n",
       "std                   3.222430              3.568136  \n",
       "min                   0.000000              0.000000  \n",
       "25%                   0.000000              2.000000  \n",
       "50%                   1.000000              3.000000  \n",
       "75%                   3.000000              7.000000  \n",
       "max                  15.000000             17.000000  \n",
       "\n",
       "[8 rows x 27 columns]"
      ]
     },
     "execution_count": 39,
     "metadata": {},
     "output_type": "execute_result"
    }
   ],
   "source": [
    "# let's take a look at som statistics\n",
    "attr_df.describe()"
   ]
  },
  {
   "cell_type": "code",
   "execution_count": 40,
   "id": "85846d6c",
   "metadata": {},
   "outputs": [
    {
     "data": {
      "text/plain": [
       "id                          0\n",
       "Age                         0\n",
       "Attrition                   0\n",
       "BusinessTravel              0\n",
       "DailyRate                   0\n",
       "Department                  0\n",
       "DistanceFromHome            0\n",
       "Education                   0\n",
       "EducationField              0\n",
       "EmployeeCount               0\n",
       "EmployeeNumber              0\n",
       "EnvironmentSatisfaction     0\n",
       "Gender                      0\n",
       "HourlyRate                  0\n",
       "JobInvolvement              0\n",
       "JobLevel                    0\n",
       "JobRole                     0\n",
       "JobSatisfaction             0\n",
       "MaritalStatus               0\n",
       "MonthlyIncome               0\n",
       "MonthlyRate                 0\n",
       "NumCompaniesWorked          0\n",
       "Over18                      0\n",
       "OverTime                    0\n",
       "PercentSalaryHike           0\n",
       "PerformanceRating           0\n",
       "RelationshipSatisfaction    0\n",
       "StandardHours               0\n",
       "StockOptionLevel            0\n",
       "TotalWorkingYears           0\n",
       "TrainingTimesLastYear       0\n",
       "WorkLifeBalance             0\n",
       "YearsAtCompany              0\n",
       "YearsInCurrentRole          0\n",
       "YearsSinceLastPromotion     0\n",
       "YearsWithCurrManager        0\n",
       "dtype: int64"
      ]
     },
     "execution_count": 40,
     "metadata": {},
     "output_type": "execute_result"
    }
   ],
   "source": [
    "# Are there missing values\n",
    "attr_df.isna().sum()"
   ]
  },
  {
   "cell_type": "code",
   "execution_count": 41,
   "id": "2bc7a66e",
   "metadata": {
    "scrolled": true
   },
   "outputs": [
    {
     "data": {
      "text/plain": [
       "0"
      ]
     },
     "execution_count": 41,
     "metadata": {},
     "output_type": "execute_result"
    }
   ],
   "source": [
    "# Checking for duplicates\n",
    "attr_df.id.duplicated().sum()"
   ]
  },
  {
   "cell_type": "markdown",
   "id": "94f11080",
   "metadata": {},
   "source": [
    "### Structure of the dataset\n",
    "\n",
    "> This data set contains 1470 rows and 36 variables relating to employee attrition including attrition, monthly income, job satisfaction, performance rating, age, no. of years worked. \n",
    ">\n",
    "> Most variables are categorical in nature especially ordered factor variables showing levels and ratings.\n",
    "\n",
    "\n",
    "### Main feature of interest in the dataset?\n",
    "\n",
    "> I am most interested in the factors that affect employee attrition\n",
    "\n",
    "### Features in the dataset I think will help support the investigation into the feature of interest?\n",
    "\n",
    "> The monthly income and age should have an important effect on employee attrition. I expect the no. of years worked, job satisfaction and work life balance to also have an effect"
   ]
  },
  {
   "cell_type": "markdown",
   "id": "ba811814",
   "metadata": {},
   "source": [
    "<a id=\"eda\"></a>\n",
    "## Exploratory Data Analysis"
   ]
  },
  {
   "cell_type": "markdown",
   "id": "145ec272",
   "metadata": {},
   "source": [
    "Let's explore the different variables in the dataset"
   ]
  },
  {
   "cell_type": "code",
   "execution_count": 42,
   "id": "48da209b",
   "metadata": {
    "scrolled": true
   },
   "outputs": [
    {
     "data": {
      "text/plain": [
       "No     1233\n",
       "Yes     237\n",
       "Name: Attrition, dtype: int64"
      ]
     },
     "execution_count": 42,
     "metadata": {},
     "output_type": "execute_result"
    }
   ],
   "source": [
    "# What is the attrition rate\n",
    "attr_df.Attrition.value_counts()"
   ]
  },
  {
   "cell_type": "code",
   "execution_count": 43,
   "id": "658211e8",
   "metadata": {},
   "outputs": [
    {
     "data": {
      "image/png": "[encoded data removed]",
      "text/plain": [
       "<Figure size 504x504 with 1 Axes>"
      ]
     },
     "metadata": {},
     "output_type": "display_data"
    }
   ],
   "source": [
    "# Let's see the percentage in a pie chart\n",
    "sorted_counts = attr_df[\"Attrition\"].value_counts()\n",
    "plt.figure(figsize=(7,7))\n",
    "plt.pie(sorted_counts, startangle = 90, counterclock = False, autopct='%1.1f%%')\n",
    "plt.axis(\"square\")\n",
    "plt.title(\"Attrition Rate\")\n",
    "plt.ylabel(\"Attrition\")\n",
    "plt.legend([\"No\", \"Yes\"]);"
   ]
  },
  {
   "cell_type": "code",
   "execution_count": 44,
   "id": "e9776a8e",
   "metadata": {
    "scrolled": true
   },
   "outputs": [
    {
     "data": {
      "image/png": "[encoded data removed]",
      "text/plain": [
       "<Figure size 432x288 with 1 Axes>"
      ]
     },
     "metadata": {
      "needs_background": "light"
     },
     "output_type": "display_data"
    }
   ],
   "source": [
    "# Let's see the distirbution of employee business travel\n",
    "order = attr_df.BusinessTravel.value_counts().index\n",
    "sns.countplot(data=attr_df, x=\"BusinessTravel\", color=default_color, order=order)\n",
    "plt.title(\"Distirbution of Employee Business Travel\");"
   ]
  },
  {
   "cell_type": "code",
   "execution_count": 45,
   "id": "8fc8f5c8",
   "metadata": {},
   "outputs": [
    {
     "data": {
      "image/png": "[encoded data removed]",
      "text/plain": [
       "<Figure size 720x1296 with 4 Axes>"
      ]
     },
     "metadata": {
      "needs_background": "light"
     },
     "output_type": "display_data"
    }
   ],
   "source": [
    "# Let's see the distribution of a number of categorical variables\n",
    "fig, ax = plt.subplots(nrows=4, figsize = [10,18])\n",
    "\n",
    "sns.countplot(data=attr_df, x=\"MaritalStatus\", color = default_color, ax = ax[0])\n",
    "sns.countplot(data=attr_df, x=\"Department\", color = default_color, ax = ax[1])\n",
    "sns.countplot(data=attr_df, x=\"EducationField\", color = default_color, ax = ax[2])\n",
    "sns.countplot(data=attr_df, x=\"JobRole\", color = default_color, ax = ax[3])\n",
    "plt.xticks(rotation=45)\n",
    "plt.show()"
   ]
  },
  {
   "cell_type": "markdown",
   "id": "ce47e557",
   "metadata": {},
   "source": [
    "**There are a number of ordinal variables, let's convert them into an ordered categorical type**"
   ]
  },
  {
   "cell_type": "code",
   "execution_count": 46,
   "id": "99a1e973",
   "metadata": {},
   "outputs": [],
   "source": [
    "# Converting columns from a plain object type into an ordered categorical type \n",
    "# List of columns\n",
    "ordinal_var_dict = {\n",
    "                    \"WorkLifeBalance\": [1, 2, 3, 4],\n",
    "                    \"JobSatisfaction\": [1, 2, 3, 4],\n",
    "                    \"RelationshipSatisfaction\": [1, 2, 3, 4],\n",
    "                    \"Education\": [1, 2, 3, 4, 5],\n",
    "                    \"EnvironmentSatisfaction\": [1, 2, 3, 4],\n",
    "                    \"PerformanceRating\": [3, 4],\n",
    "                    \"JobInvolvement\": [1, 2, 3, 4],\n",
    "                    \"JobLevel\": [1, 2, 3, 4, 5],\n",
    "                    \"StockOptionLevel\": [0, 1, 2, 3]    \n",
    "                   }\n",
    "# Returns the types with the categories & orderedness and uses pandas.astype() to convert \n",
    "# from a plain object type into an ordered categorical type \n",
    "for var in ordinal_var_dict:\n",
    "    ordered_var = pd.api.types.CategoricalDtype(ordered = True, categories = ordinal_var_dict[var])\n",
    "    attr_df[var] = attr_df[var].astype(ordered_var)"
   ]
  },
  {
   "cell_type": "code",
   "execution_count": 47,
   "id": "e04a84f2",
   "metadata": {},
   "outputs": [
    {
     "data": {
      "image/png": "[encoded data removed]",
      "text/plain": [
       "<Figure size 1080x720 with 9 Axes>"
      ]
     },
     "metadata": {
      "needs_background": "light"
     },
     "output_type": "display_data"
    }
   ],
   "source": [
    "# Let's see the distribution of a number of categorical variables\n",
    "fig, ax = plt.subplots(nrows=3, ncols=3, figsize = [15,10])\n",
    "\n",
    "sns.countplot(data=attr_df, x=\"JobLevel\", color = default_color, ax = ax[0,0])\n",
    "sns.countplot(data=attr_df, x=\"WorkLifeBalance\", color = default_color, ax = ax[0,1])\n",
    "sns.countplot(data=attr_df, x=\"RelationshipSatisfaction\", color = default_color, ax = ax[0,2])\n",
    "sns.countplot(data=attr_df, x=\"Education\", color = default_color, ax = ax[1,0])\n",
    "sns.countplot(data=attr_df, x=\"PerformanceRating\", color = default_color, ax = ax[1,1])\n",
    "sns.countplot(data=attr_df, x=\"JobInvolvement\", color = default_color, ax = ax[1,2])\n",
    "sns.countplot(data=attr_df, x=\"JobSatisfaction\", color = default_color, ax = ax[2,0])\n",
    "sns.countplot(data=attr_df, x=\"StockOptionLevel\", color = default_color, ax = ax[2,1])\n",
    "sns.countplot(data=attr_df, x=\"EnvironmentSatisfaction\", color = default_color, ax = ax[2,2])\n",
    "plt.show()"
   ]
  },
  {
   "cell_type": "code",
   "execution_count": 48,
   "id": "ed501bc9",
   "metadata": {
    "scrolled": true
   },
   "outputs": [
    {
     "data": {
      "image/png": "[encoded data removed]",
      "text/plain": [
       "<Figure size 576x360 with 1 Axes>"
      ]
     },
     "metadata": {
      "needs_background": "light"
     },
     "output_type": "display_data"
    }
   ],
   "source": [
    "plt.figure(figsize=[8, 5])\n",
    "bins = np.arange(1000, attr_df[\"MonthlyIncome\"].max()+1000, 500)\n",
    "plt.hist(data=attr_df, x=\"MonthlyIncome\", bins=bins);"
   ]
  },
  {
   "cell_type": "code",
   "execution_count": 49,
   "id": "5da1916a",
   "metadata": {
    "scrolled": true
   },
   "outputs": [
    {
     "data": {
      "image/png": "[encoded data removed]",
      "text/plain": [
       "<Figure size 576x360 with 1 Axes>"
      ]
     },
     "metadata": {
      "needs_background": "light"
     },
     "output_type": "display_data"
    }
   ],
   "source": [
    "plt.figure(figsize=[8, 5])\n",
    "bins = np.arange(1, attr_df[\"DistanceFromHome\"].max()+5, 1)\n",
    "plt.hist(data=attr_df, x=\"DistanceFromHome\", bins=bins);"
   ]
  },
  {
   "cell_type": "markdown",
   "id": "0af7cde8",
   "metadata": {},
   "source": [
    "---\n",
    "**Let's go on ahead to look at the relationship between the variables in the dataset and ask questions**"
   ]
  },
  {
   "cell_type": "markdown",
   "id": "32e0fe72",
   "metadata": {},
   "source": [
    "<a id=\"1\"></a>\n",
    "## 1. What are the factors behind employee attrition?"
   ]
  },
  {
   "cell_type": "markdown",
   "id": "d3cb0290",
   "metadata": {},
   "source": [
    "Let's explore a couple of relationships to understand this question"
   ]
  },
  {
   "cell_type": "markdown",
   "id": "58e19731",
   "metadata": {},
   "source": [
    "### What effect does monthly income have on employee attrition?"
   ]
  },
  {
   "cell_type": "code",
   "execution_count": 50,
   "id": "ab0b7d81",
   "metadata": {
    "scrolled": true
   },
   "outputs": [
    {
     "data": {
      "text/html": [
       "<div>\n",
       "<style scoped>\n",
       "    .dataframe tbody tr th:only-of-type {\n",
       "        vertical-align: middle;\n",
       "    }\n",
       "\n",
       "    .dataframe tbody tr th {\n",
       "        vertical-align: top;\n",
       "    }\n",
       "\n",
       "    .dataframe thead th {\n",
       "        text-align: right;\n",
       "    }\n",
       "</style>\n",
       "<table border=\"1\" class=\"dataframe\">\n",
       "  <thead>\n",
       "    <tr style=\"text-align: right;\">\n",
       "      <th></th>\n",
       "      <th>count</th>\n",
       "      <th>mean</th>\n",
       "      <th>std</th>\n",
       "      <th>min</th>\n",
       "      <th>25%</th>\n",
       "      <th>50%</th>\n",
       "      <th>75%</th>\n",
       "      <th>max</th>\n",
       "    </tr>\n",
       "    <tr>\n",
       "      <th>Attrition</th>\n",
       "      <th></th>\n",
       "      <th></th>\n",
       "      <th></th>\n",
       "      <th></th>\n",
       "      <th></th>\n",
       "      <th></th>\n",
       "      <th></th>\n",
       "      <th></th>\n",
       "    </tr>\n",
       "  </thead>\n",
       "  <tbody>\n",
       "    <tr>\n",
       "      <th>No</th>\n",
       "      <td>1233.0</td>\n",
       "      <td>6832.739659</td>\n",
       "      <td>4818.208001</td>\n",
       "      <td>1051.0</td>\n",
       "      <td>3211.0</td>\n",
       "      <td>5204.0</td>\n",
       "      <td>8834.0</td>\n",
       "      <td>19999.0</td>\n",
       "    </tr>\n",
       "    <tr>\n",
       "      <th>Yes</th>\n",
       "      <td>237.0</td>\n",
       "      <td>4787.092827</td>\n",
       "      <td>3640.210367</td>\n",
       "      <td>1009.0</td>\n",
       "      <td>2373.0</td>\n",
       "      <td>3202.0</td>\n",
       "      <td>5916.0</td>\n",
       "      <td>19859.0</td>\n",
       "    </tr>\n",
       "  </tbody>\n",
       "</table>\n",
       "</div>"
      ],
      "text/plain": [
       "            count         mean          std     min     25%     50%     75%  \\\n",
       "Attrition                                                                     \n",
       "No         1233.0  6832.739659  4818.208001  1051.0  3211.0  5204.0  8834.0   \n",
       "Yes         237.0  4787.092827  3640.210367  1009.0  2373.0  3202.0  5916.0   \n",
       "\n",
       "               max  \n",
       "Attrition           \n",
       "No         19999.0  \n",
       "Yes        19859.0  "
      ]
     },
     "execution_count": 50,
     "metadata": {},
     "output_type": "execute_result"
    }
   ],
   "source": [
    "attr_df.groupby(\"Attrition\")[\"MonthlyIncome\"].describe()"
   ]
  },
  {
   "cell_type": "code",
   "execution_count": 51,
   "id": "92eebec8",
   "metadata": {
    "scrolled": true
   },
   "outputs": [
    {
     "data": {
      "image/png": "[encoded data removed]",
      "text/plain": [
       "<Figure size 432x288 with 1 Axes>"
      ]
     },
     "metadata": {
      "needs_background": "light"
     },
     "output_type": "display_data"
    }
   ],
   "source": [
    "# Let's look at the relationship between atrrition and monthly income\n",
    "sns.barplot(data=attr_df, x=\"Attrition\", y=\"MonthlyIncome\", color=default_color)\n",
    "plt.title(\"Relationship between Attrition and Average Monthly Income\");"
   ]
  },
  {
   "cell_type": "markdown",
   "id": "fab8b0c3",
   "metadata": {},
   "source": [
    "We can see that on the average employees with lower salary ranges are no longer working. This seems like an important factor affecting employee attrition"
   ]
  },
  {
   "cell_type": "markdown",
   "id": "3a2defa4",
   "metadata": {},
   "source": [
    "### What is the relationship between age and employee attrition?"
   ]
  },
  {
   "cell_type": "code",
   "execution_count": 52,
   "id": "2060935f",
   "metadata": {
    "scrolled": true
   },
   "outputs": [
    {
     "data": {
      "text/html": [
       "<div>\n",
       "<style scoped>\n",
       "    .dataframe tbody tr th:only-of-type {\n",
       "        vertical-align: middle;\n",
       "    }\n",
       "\n",
       "    .dataframe tbody tr th {\n",
       "        vertical-align: top;\n",
       "    }\n",
       "\n",
       "    .dataframe thead th {\n",
       "        text-align: right;\n",
       "    }\n",
       "</style>\n",
       "<table border=\"1\" class=\"dataframe\">\n",
       "  <thead>\n",
       "    <tr style=\"text-align: right;\">\n",
       "      <th></th>\n",
       "      <th>count</th>\n",
       "      <th>mean</th>\n",
       "      <th>std</th>\n",
       "      <th>min</th>\n",
       "      <th>25%</th>\n",
       "      <th>50%</th>\n",
       "      <th>75%</th>\n",
       "      <th>max</th>\n",
       "    </tr>\n",
       "    <tr>\n",
       "      <th>Attrition</th>\n",
       "      <th></th>\n",
       "      <th></th>\n",
       "      <th></th>\n",
       "      <th></th>\n",
       "      <th></th>\n",
       "      <th></th>\n",
       "      <th></th>\n",
       "      <th></th>\n",
       "    </tr>\n",
       "  </thead>\n",
       "  <tbody>\n",
       "    <tr>\n",
       "      <th>No</th>\n",
       "      <td>1233.0</td>\n",
       "      <td>37.561233</td>\n",
       "      <td>8.88836</td>\n",
       "      <td>18.0</td>\n",
       "      <td>31.0</td>\n",
       "      <td>36.0</td>\n",
       "      <td>43.0</td>\n",
       "      <td>60.0</td>\n",
       "    </tr>\n",
       "    <tr>\n",
       "      <th>Yes</th>\n",
       "      <td>237.0</td>\n",
       "      <td>33.607595</td>\n",
       "      <td>9.68935</td>\n",
       "      <td>18.0</td>\n",
       "      <td>28.0</td>\n",
       "      <td>32.0</td>\n",
       "      <td>39.0</td>\n",
       "      <td>58.0</td>\n",
       "    </tr>\n",
       "  </tbody>\n",
       "</table>\n",
       "</div>"
      ],
      "text/plain": [
       "            count       mean      std   min   25%   50%   75%   max\n",
       "Attrition                                                          \n",
       "No         1233.0  37.561233  8.88836  18.0  31.0  36.0  43.0  60.0\n",
       "Yes         237.0  33.607595  9.68935  18.0  28.0  32.0  39.0  58.0"
      ]
     },
     "execution_count": 52,
     "metadata": {},
     "output_type": "execute_result"
    }
   ],
   "source": [
    "attr_df.groupby(\"Attrition\")[\"Age\"].describe()"
   ]
  },
  {
   "cell_type": "code",
   "execution_count": 53,
   "id": "da320aaf",
   "metadata": {
    "scrolled": true
   },
   "outputs": [
    {
     "data": {
      "image/png": "[encoded data removed]",
      "text/plain": [
       "<Figure size 432x288 with 1 Axes>"
      ]
     },
     "metadata": {
      "needs_background": "light"
     },
     "output_type": "display_data"
    }
   ],
   "source": [
    "# Let's look at the relationship between age and attrition\n",
    "sns.boxplot(data=attr_df, x=\"Attrition\", y=\"Age\", color=default_color)\n",
    "plt.title(\"Relationship between Age and Attrition\");"
   ]
  },
  {
   "cell_type": "markdown",
   "id": "adf9329d",
   "metadata": {},
   "source": [
    "The box plot shows that there's employee attrition within those of younger ages. It could mean that young employees have more freedom to move from one company to another."
   ]
  },
  {
   "cell_type": "markdown",
   "id": "dbd618be",
   "metadata": {},
   "source": [
    "### How does the no. of years spent at company relate to employee attrition?"
   ]
  },
  {
   "cell_type": "code",
   "execution_count": 54,
   "id": "1a15d73c",
   "metadata": {
    "scrolled": true
   },
   "outputs": [
    {
     "data": {
      "text/html": [
       "<div>\n",
       "<style scoped>\n",
       "    .dataframe tbody tr th:only-of-type {\n",
       "        vertical-align: middle;\n",
       "    }\n",
       "\n",
       "    .dataframe tbody tr th {\n",
       "        vertical-align: top;\n",
       "    }\n",
       "\n",
       "    .dataframe thead th {\n",
       "        text-align: right;\n",
       "    }\n",
       "</style>\n",
       "<table border=\"1\" class=\"dataframe\">\n",
       "  <thead>\n",
       "    <tr style=\"text-align: right;\">\n",
       "      <th></th>\n",
       "      <th>count</th>\n",
       "      <th>mean</th>\n",
       "      <th>std</th>\n",
       "      <th>min</th>\n",
       "      <th>25%</th>\n",
       "      <th>50%</th>\n",
       "      <th>75%</th>\n",
       "      <th>max</th>\n",
       "    </tr>\n",
       "    <tr>\n",
       "      <th>Attrition</th>\n",
       "      <th></th>\n",
       "      <th></th>\n",
       "      <th></th>\n",
       "      <th></th>\n",
       "      <th></th>\n",
       "      <th></th>\n",
       "      <th></th>\n",
       "      <th></th>\n",
       "    </tr>\n",
       "  </thead>\n",
       "  <tbody>\n",
       "    <tr>\n",
       "      <th>No</th>\n",
       "      <td>1233.0</td>\n",
       "      <td>7.369019</td>\n",
       "      <td>6.096298</td>\n",
       "      <td>0.0</td>\n",
       "      <td>3.0</td>\n",
       "      <td>6.0</td>\n",
       "      <td>10.0</td>\n",
       "      <td>37.0</td>\n",
       "    </tr>\n",
       "    <tr>\n",
       "      <th>Yes</th>\n",
       "      <td>237.0</td>\n",
       "      <td>5.130802</td>\n",
       "      <td>5.949984</td>\n",
       "      <td>0.0</td>\n",
       "      <td>1.0</td>\n",
       "      <td>3.0</td>\n",
       "      <td>7.0</td>\n",
       "      <td>40.0</td>\n",
       "    </tr>\n",
       "  </tbody>\n",
       "</table>\n",
       "</div>"
      ],
      "text/plain": [
       "            count      mean       std  min  25%  50%   75%   max\n",
       "Attrition                                                       \n",
       "No         1233.0  7.369019  6.096298  0.0  3.0  6.0  10.0  37.0\n",
       "Yes         237.0  5.130802  5.949984  0.0  1.0  3.0   7.0  40.0"
      ]
     },
     "execution_count": 54,
     "metadata": {},
     "output_type": "execute_result"
    }
   ],
   "source": [
    "attr_df.groupby(\"Attrition\")[\"YearsAtCompany\"].describe()"
   ]
  },
  {
   "cell_type": "code",
   "execution_count": 55,
   "id": "c8050612",
   "metadata": {
    "scrolled": true
   },
   "outputs": [
    {
     "data": {
      "image/png": "[encoded data removed]",
      "text/plain": [
       "<Figure size 432x288 with 1 Axes>"
      ]
     },
     "metadata": {
      "needs_background": "light"
     },
     "output_type": "display_data"
    }
   ],
   "source": [
    "# Let's look at the relationship between years worked at company and attrition\n",
    "sns.barplot(data=attr_df, x=\"Attrition\", y=\"YearsAtCompany\", color=default_color)\n",
    "plt.title(\"Relationship between Years Worked at Company and Attrition\");"
   ]
  },
  {
   "cell_type": "markdown",
   "id": "383ffc30",
   "metadata": {},
   "source": [
    "On the average, those who spend lesser years (5 years and below) at a company are more likely to leave. It can be said that spending a lot of years (over 7 years) at a company makes employees less likely to leave."
   ]
  },
  {
   "cell_type": "markdown",
   "id": "8604ada8",
   "metadata": {},
   "source": [
    "### Does the distance from home have an effect on employee attrition?"
   ]
  },
  {
   "cell_type": "code",
   "execution_count": 56,
   "id": "e85ecc52",
   "metadata": {
    "scrolled": true
   },
   "outputs": [
    {
     "data": {
      "text/html": [
       "<div>\n",
       "<style scoped>\n",
       "    .dataframe tbody tr th:only-of-type {\n",
       "        vertical-align: middle;\n",
       "    }\n",
       "\n",
       "    .dataframe tbody tr th {\n",
       "        vertical-align: top;\n",
       "    }\n",
       "\n",
       "    .dataframe thead th {\n",
       "        text-align: right;\n",
       "    }\n",
       "</style>\n",
       "<table border=\"1\" class=\"dataframe\">\n",
       "  <thead>\n",
       "    <tr style=\"text-align: right;\">\n",
       "      <th></th>\n",
       "      <th>count</th>\n",
       "      <th>mean</th>\n",
       "      <th>std</th>\n",
       "      <th>min</th>\n",
       "      <th>25%</th>\n",
       "      <th>50%</th>\n",
       "      <th>75%</th>\n",
       "      <th>max</th>\n",
       "    </tr>\n",
       "    <tr>\n",
       "      <th>Attrition</th>\n",
       "      <th></th>\n",
       "      <th></th>\n",
       "      <th></th>\n",
       "      <th></th>\n",
       "      <th></th>\n",
       "      <th></th>\n",
       "      <th></th>\n",
       "      <th></th>\n",
       "    </tr>\n",
       "  </thead>\n",
       "  <tbody>\n",
       "    <tr>\n",
       "      <th>No</th>\n",
       "      <td>1233.0</td>\n",
       "      <td>8.915653</td>\n",
       "      <td>8.012633</td>\n",
       "      <td>1.0</td>\n",
       "      <td>2.0</td>\n",
       "      <td>7.0</td>\n",
       "      <td>13.0</td>\n",
       "      <td>29.0</td>\n",
       "    </tr>\n",
       "    <tr>\n",
       "      <th>Yes</th>\n",
       "      <td>237.0</td>\n",
       "      <td>10.632911</td>\n",
       "      <td>8.452525</td>\n",
       "      <td>1.0</td>\n",
       "      <td>3.0</td>\n",
       "      <td>9.0</td>\n",
       "      <td>17.0</td>\n",
       "      <td>29.0</td>\n",
       "    </tr>\n",
       "  </tbody>\n",
       "</table>\n",
       "</div>"
      ],
      "text/plain": [
       "            count       mean       std  min  25%  50%   75%   max\n",
       "Attrition                                                        \n",
       "No         1233.0   8.915653  8.012633  1.0  2.0  7.0  13.0  29.0\n",
       "Yes         237.0  10.632911  8.452525  1.0  3.0  9.0  17.0  29.0"
      ]
     },
     "execution_count": 56,
     "metadata": {},
     "output_type": "execute_result"
    }
   ],
   "source": [
    "attr_df.groupby(\"Attrition\")[\"DistanceFromHome\"].describe()"
   ]
  },
  {
   "cell_type": "code",
   "execution_count": 57,
   "id": "294eb5ba",
   "metadata": {
    "scrolled": true
   },
   "outputs": [
    {
     "data": {
      "image/png": "[encoded data removed]",
      "text/plain": [
       "<Figure size 432x288 with 1 Axes>"
      ]
     },
     "metadata": {
      "needs_background": "light"
     },
     "output_type": "display_data"
    }
   ],
   "source": [
    "sns.boxplot(data=attr_df, x=\"Attrition\", y=\"DistanceFromHome\");"
   ]
  },
  {
   "cell_type": "markdown",
   "id": "5edc6fda",
   "metadata": {},
   "source": [
    "From the box plot, employees from a farther distance (average of 10 km) from home tend to leve their jobs than those who stay closer."
   ]
  },
  {
   "cell_type": "markdown",
   "id": "1c7ff3f0",
   "metadata": {
    "scrolled": true
   },
   "source": [
    "### What is the relationship between total no. of years worked and monthly income?"
   ]
  },
  {
   "cell_type": "code",
   "execution_count": 58,
   "id": "502317f4",
   "metadata": {},
   "outputs": [
    {
     "data": {
      "image/png": "[encoded data removed]",
      "text/plain": [
       "<Figure size 432x288 with 2 Axes>"
      ]
     },
     "metadata": {
      "needs_background": "light"
     },
     "output_type": "display_data"
    }
   ],
   "source": [
    "# Using a heat map to see the relationship between total no. of years worked and monthly income\n",
    "plt.hist2d(data=attr_df, x=\"TotalWorkingYears\", y=\"MonthlyIncome\", cmin=0.55, cmap=\"mako_r\")\n",
    "plt.colorbar()\n",
    "plt.title(\"Total Working Years vs. Monthly Income\")\n",
    "plt.xlabel(\"Total Working Years\")\n",
    "plt.ylabel(\"Monthly Income\");"
   ]
  },
  {
   "cell_type": "markdown",
   "id": "d4806f72",
   "metadata": {},
   "source": [
    "There's a positive relationship between total no. of years worked and monthly income. Most employees are just starting out with a few years of experience and a low range monthly income betwee 2500-10000"
   ]
  },
  {
   "cell_type": "markdown",
   "id": "85450558",
   "metadata": {},
   "source": [
    "### Is there any relationship between attrition and the ordinal variables?"
   ]
  },
  {
   "cell_type": "code",
   "execution_count": 59,
   "id": "216a4872",
   "metadata": {
    "scrolled": true
   },
   "outputs": [
    {
     "data": {
      "image/png": "[encoded data removed]",
      "text/plain": [
       "<Figure size 1296x864 with 9 Axes>"
      ]
     },
     "metadata": {
      "needs_background": "light"
     },
     "output_type": "display_data"
    }
   ],
   "source": [
    "fig, ax = plt.subplots(nrows=3, ncols=3, figsize = [18,12])\n",
    "\n",
    "sns.countplot(data=attr_df, x=\"Attrition\", hue=\"JobSatisfaction\", ax = ax[0,0])\n",
    "sns.countplot(data=attr_df, x=\"Attrition\", hue=\"JobInvolvement\", ax = ax[0,1])\n",
    "sns.countplot(data=attr_df, x=\"Attrition\", hue=\"JobLevel\", ax = ax[0,2])\n",
    "sns.countplot(data=attr_df, x=\"Attrition\", hue=\"WorkLifeBalance\", ax = ax[1,0])\n",
    "sns.countplot(data=attr_df, x=\"Attrition\", hue=\"Education\", ax = ax[1,1])\n",
    "sns.countplot(data=attr_df, x=\"Attrition\", hue=\"RelationshipSatisfaction\", ax = ax[1,2])\n",
    "sns.countplot(data=attr_df, x=\"Attrition\", hue=\"EnvironmentSatisfaction\", ax = ax[2,0])\n",
    "sns.countplot(data=attr_df, x=\"Attrition\", hue=\"StockOptionLevel\", ax = ax[2,1])\n",
    "sns.countplot(data=attr_df, x=\"Attrition\", hue=\"PerformanceRating\", ax = ax[2,2]);"
   ]
  },
  {
   "cell_type": "markdown",
   "id": "91de0dac",
   "metadata": {},
   "source": [
    "From the plot generated,\n",
    "+ Looking at the relationship between Attrition and Job Satisfaction, those who report lower rates of job satisfaction leave the company\n",
    "+ Looking at the relationship between Attrition and Job Involvement, those who are deeply involved in work (with rating above 2) remain at the company\n",
    "+ Looking at the relationship between Attrition and Job Level, those in the lower rank (level 1) tend to leave while those from level 2 remain. This could mean just being promoted to the next level encourages employees to stay\n",
    "+ Looking at the relationship between Attrition and Work Life Balance, the groups of bars generated for both employees that leave or stay are distributed in the same way. There do not seem to be any relationship between attrition and work life balance\n",
    "+ Looking at the relationship between Attrition and Education, the largest bar can be seen from those who stay at the company and have level 3 education followed by level 4. We may say the higher the level of education the lower the attrition.\n",
    "+ Looking at the relationship between Attrition and Relationship Satisfaction, the bars in both employees that leave or stay are almost identical. There do not seem to be any relationship between attrition and relationship satisfaction\n",
    "+ Looking at the relationship between Attrition and Environment Satisfaction, the bars in both groups seem identical but looking closer at the bars for those that leave employees experiencing the lowest level of satisfaction occurs the highest. We may say Environment Satisfaction has a slight imapct on employee attrition\n",
    "+ Looking at the relationship between Attrition and Stock Option Level, amongst the employee that choose to stay there are more employees enjoying higher stock level option while amongst those that leave more enjoy lower stock option levels.\n",
    "+ Looking at the relationship between Attrition and Performance Rating, the bars appear identical and there seems to be no relationship between attriton and performance rating"
   ]
  },
  {
   "cell_type": "markdown",
   "id": "89fd6184",
   "metadata": {},
   "source": [
    "> From the exploration above looking at the factors behind employee attrition, I think these are the three main factors:\n",
    "> + Monthly Income\n",
    "> + Years worked at the company\n",
    "> + Job Level"
   ]
  },
  {
   "cell_type": "markdown",
   "id": "88aba235",
   "metadata": {},
   "source": [
    "<a id=\"2\"></a>\n",
    "## 2. What is the relationship between education and monthly income?"
   ]
  },
  {
   "cell_type": "code",
   "execution_count": 60,
   "id": "55b8d347",
   "metadata": {
    "scrolled": true
   },
   "outputs": [
    {
     "data": {
      "image/png": "[encoded data removed]",
      "text/plain": [
       "<Figure size 432x288 with 1 Axes>"
      ]
     },
     "metadata": {
      "needs_background": "light"
     },
     "output_type": "display_data"
    }
   ],
   "source": [
    "# Let's look at the relationship between education and monthly income\n",
    "sns.barplot(data=attr_df, x=\"Education\", y=\"MonthlyIncome\", color=default_color);"
   ]
  },
  {
   "cell_type": "markdown",
   "id": "6bd465dc",
   "metadata": {},
   "source": [
    "> Looking at the relationship between education and monthly income, the average monthly income rises as the education level increases (there is a positive relationship between the two variables)."
   ]
  },
  {
   "cell_type": "markdown",
   "id": "892fab52",
   "metadata": {},
   "source": [
    "<a id=\"3\"></a>\n",
    "## 3. What is the effect of age on attrition?"
   ]
  },
  {
   "cell_type": "code",
   "execution_count": 61,
   "id": "599092ee",
   "metadata": {
    "scrolled": true
   },
   "outputs": [
    {
     "data": {
      "text/html": [
       "<div>\n",
       "<style scoped>\n",
       "    .dataframe tbody tr th:only-of-type {\n",
       "        vertical-align: middle;\n",
       "    }\n",
       "\n",
       "    .dataframe tbody tr th {\n",
       "        vertical-align: top;\n",
       "    }\n",
       "\n",
       "    .dataframe thead th {\n",
       "        text-align: right;\n",
       "    }\n",
       "</style>\n",
       "<table border=\"1\" class=\"dataframe\">\n",
       "  <thead>\n",
       "    <tr style=\"text-align: right;\">\n",
       "      <th></th>\n",
       "      <th>count</th>\n",
       "      <th>mean</th>\n",
       "      <th>std</th>\n",
       "      <th>min</th>\n",
       "      <th>25%</th>\n",
       "      <th>50%</th>\n",
       "      <th>75%</th>\n",
       "      <th>max</th>\n",
       "    </tr>\n",
       "    <tr>\n",
       "      <th>Attrition</th>\n",
       "      <th></th>\n",
       "      <th></th>\n",
       "      <th></th>\n",
       "      <th></th>\n",
       "      <th></th>\n",
       "      <th></th>\n",
       "      <th></th>\n",
       "      <th></th>\n",
       "    </tr>\n",
       "  </thead>\n",
       "  <tbody>\n",
       "    <tr>\n",
       "      <th>No</th>\n",
       "      <td>1233.0</td>\n",
       "      <td>37.561233</td>\n",
       "      <td>8.88836</td>\n",
       "      <td>18.0</td>\n",
       "      <td>31.0</td>\n",
       "      <td>36.0</td>\n",
       "      <td>43.0</td>\n",
       "      <td>60.0</td>\n",
       "    </tr>\n",
       "    <tr>\n",
       "      <th>Yes</th>\n",
       "      <td>237.0</td>\n",
       "      <td>33.607595</td>\n",
       "      <td>9.68935</td>\n",
       "      <td>18.0</td>\n",
       "      <td>28.0</td>\n",
       "      <td>32.0</td>\n",
       "      <td>39.0</td>\n",
       "      <td>58.0</td>\n",
       "    </tr>\n",
       "  </tbody>\n",
       "</table>\n",
       "</div>"
      ],
      "text/plain": [
       "            count       mean      std   min   25%   50%   75%   max\n",
       "Attrition                                                          \n",
       "No         1233.0  37.561233  8.88836  18.0  31.0  36.0  43.0  60.0\n",
       "Yes         237.0  33.607595  9.68935  18.0  28.0  32.0  39.0  58.0"
      ]
     },
     "execution_count": 61,
     "metadata": {},
     "output_type": "execute_result"
    }
   ],
   "source": [
    "attr_df.groupby(\"Attrition\")[\"Age\"].describe()"
   ]
  },
  {
   "cell_type": "code",
   "execution_count": 62,
   "id": "fb182627",
   "metadata": {
    "scrolled": true
   },
   "outputs": [
    {
     "data": {
      "image/png": "[encoded data removed]",
      "text/plain": [
       "<Figure size 432x288 with 1 Axes>"
      ]
     },
     "metadata": {
      "needs_background": "light"
     },
     "output_type": "display_data"
    }
   ],
   "source": [
    "# Let's look at the relationship between age and attrition again\n",
    "sns.boxplot(data=attr_df, x=\"Attrition\", y=\"Age\", color=default_color)\n",
    "plt.title(\"Relationship between Age and Attrition\");"
   ]
  },
  {
   "cell_type": "markdown",
   "id": "421b8108",
   "metadata": {},
   "source": [
    "The box plot shows that there's employee attrition within those of younger ages. It could mean that young employees have more freedom to move from one company to another."
   ]
  },
  {
   "cell_type": "markdown",
   "id": "059edbc8",
   "metadata": {},
   "source": [
    "<a id=\"4\"></a>\n",
    "## 4. Is income the main factor towards employee attrition?"
   ]
  },
  {
   "cell_type": "code",
   "execution_count": 63,
   "id": "aa5d376a",
   "metadata": {
    "scrolled": true
   },
   "outputs": [
    {
     "data": {
      "text/html": [
       "<div>\n",
       "<style scoped>\n",
       "    .dataframe tbody tr th:only-of-type {\n",
       "        vertical-align: middle;\n",
       "    }\n",
       "\n",
       "    .dataframe tbody tr th {\n",
       "        vertical-align: top;\n",
       "    }\n",
       "\n",
       "    .dataframe thead th {\n",
       "        text-align: right;\n",
       "    }\n",
       "</style>\n",
       "<table border=\"1\" class=\"dataframe\">\n",
       "  <thead>\n",
       "    <tr style=\"text-align: right;\">\n",
       "      <th></th>\n",
       "      <th>count</th>\n",
       "      <th>mean</th>\n",
       "      <th>std</th>\n",
       "      <th>min</th>\n",
       "      <th>25%</th>\n",
       "      <th>50%</th>\n",
       "      <th>75%</th>\n",
       "      <th>max</th>\n",
       "    </tr>\n",
       "    <tr>\n",
       "      <th>Attrition</th>\n",
       "      <th></th>\n",
       "      <th></th>\n",
       "      <th></th>\n",
       "      <th></th>\n",
       "      <th></th>\n",
       "      <th></th>\n",
       "      <th></th>\n",
       "      <th></th>\n",
       "    </tr>\n",
       "  </thead>\n",
       "  <tbody>\n",
       "    <tr>\n",
       "      <th>No</th>\n",
       "      <td>1233.0</td>\n",
       "      <td>6832.739659</td>\n",
       "      <td>4818.208001</td>\n",
       "      <td>1051.0</td>\n",
       "      <td>3211.0</td>\n",
       "      <td>5204.0</td>\n",
       "      <td>8834.0</td>\n",
       "      <td>19999.0</td>\n",
       "    </tr>\n",
       "    <tr>\n",
       "      <th>Yes</th>\n",
       "      <td>237.0</td>\n",
       "      <td>4787.092827</td>\n",
       "      <td>3640.210367</td>\n",
       "      <td>1009.0</td>\n",
       "      <td>2373.0</td>\n",
       "      <td>3202.0</td>\n",
       "      <td>5916.0</td>\n",
       "      <td>19859.0</td>\n",
       "    </tr>\n",
       "  </tbody>\n",
       "</table>\n",
       "</div>"
      ],
      "text/plain": [
       "            count         mean          std     min     25%     50%     75%  \\\n",
       "Attrition                                                                     \n",
       "No         1233.0  6832.739659  4818.208001  1051.0  3211.0  5204.0  8834.0   \n",
       "Yes         237.0  4787.092827  3640.210367  1009.0  2373.0  3202.0  5916.0   \n",
       "\n",
       "               max  \n",
       "Attrition           \n",
       "No         19999.0  \n",
       "Yes        19859.0  "
      ]
     },
     "execution_count": 63,
     "metadata": {},
     "output_type": "execute_result"
    }
   ],
   "source": [
    "attr_df.groupby(\"Attrition\")[\"MonthlyIncome\"].describe()"
   ]
  },
  {
   "cell_type": "code",
   "execution_count": 64,
   "id": "6c19e799",
   "metadata": {
    "scrolled": false
   },
   "outputs": [
    {
     "data": {
      "image/png": "[encoded data removed]",
      "text/plain": [
       "<Figure size 432x288 with 1 Axes>"
      ]
     },
     "metadata": {
      "needs_background": "light"
     },
     "output_type": "display_data"
    }
   ],
   "source": [
    "# Let's look at the relationship between atrrition and monthly income again\n",
    "sns.barplot(data=attr_df, x=\"Attrition\", y=\"MonthlyIncome\", color=default_color)\n",
    "plt.title(\"Relationship between Attrition and Average Monthly Income\");"
   ]
  },
  {
   "cell_type": "code",
   "execution_count": 65,
   "id": "a8015d70",
   "metadata": {
    "scrolled": false
   },
   "outputs": [
    {
     "data": {
      "image/png": "[encoded data removed]",
      "text/plain": [
       "<Figure size 432x288 with 1 Axes>"
      ]
     },
     "metadata": {
      "needs_background": "light"
     },
     "output_type": "display_data"
    }
   ],
   "source": [
    "# Let's look at the relationship between atrrition and monthly income on a box plot too\n",
    "sns.boxplot(data=attr_df, x=\"Attrition\", y=\"MonthlyIncome\", color=default_color)\n",
    "plt.title(\"Relationship between Attrition and Average Monthly Income\");"
   ]
  },
  {
   "cell_type": "markdown",
   "id": "52f3e2e9",
   "metadata": {},
   "source": [
    "On the average, employees with lower salary (4800) tend to stop working at the company. This seems like an important factor affecting employee attrition and I believe it is the main factor"
   ]
  },
  {
   "cell_type": "markdown",
   "id": "a9fe7ad6",
   "metadata": {},
   "source": [
    "<a id=\"5\"></a>\n",
    "## 5. How does work-life balance impact the overall attrition rate?"
   ]
  },
  {
   "cell_type": "code",
   "execution_count": 66,
   "id": "5deceea8",
   "metadata": {},
   "outputs": [
    {
     "data": {
      "image/png": "[encoded data removed]",
      "text/plain": [
       "<Figure size 432x288 with 1 Axes>"
      ]
     },
     "metadata": {
      "needs_background": "light"
     },
     "output_type": "display_data"
    }
   ],
   "source": [
    "# Let's take a look at the relationship between attrition and work-life balance\n",
    "sns.countplot(data=attr_df, x=\"Attrition\", hue=\"WorkLifeBalance\")\n",
    "plt.title(\"Attrition vs. Work Life Balance\");"
   ]
  },
  {
   "cell_type": "markdown",
   "id": "388ef9ec",
   "metadata": {},
   "source": [
    "Looking at the relationship between Attrition and Work Life Balance, the groups of bars generated for both employees that leave or stay are distributed in the same way. There do not seem to be any relationship between attrition and work life balance so we can say work life balance has little or no impact on the overall attrition rate"
   ]
  },
  {
   "cell_type": "markdown",
   "id": "7cd90892",
   "metadata": {},
   "source": [
    "---\n",
    "<a id='conclusion'></a>\n",
    "## Conclusion\n",
    "\n",
    "We looked IBM's employees attrition dataset then explored the following questions:\n",
    "\n",
    "+ What are the factors behind employee attrition?\n",
    "+ What is the relationship between Education and Monthly Income?\n",
    "+ What is the effect of age on attrition?\n",
    "+ Is Income the main factor towards employee attrition?\n",
    "+ How does work-life balance impact the overall attrition rate?\n",
    "---\n",
    "Here are the findings from the exploration carried out:\n",
    "\n",
    "1. **What are the factors behind employee attrition?**\n",
    "\n",
    "     I think these are the three main factors:\n",
    "+ Monthly Income: On the average employees with lower salary (an average of 4800) are no longer working. This seems like an important factor affecting employee attrition\n",
    "+ Years worked at the company: It is seen on the average that employees who spend lesser years (5 years and below) at the company are more likely to leave. It can be said that spending a few years at the company can easily move but those who spend a lot of years (7 years and above) at the company makes the employees less likely to leave.\n",
    "+ Job Level: We can see those in the lower rank (level 1) tend to leave while those from level 2 remain. This could mean just being promoted to the next level encourages employees to stay.\n",
    "\n",
    "2. **What is the relationship between Education and Monthly Income?**\n",
    "+ Looking at the relationship between education and monthly income, the average monthly income rises as the education level increases. There is a positive relationship between the two variables.\n",
    "\n",
    "3. **What is the effect of age on attrition?**\n",
    "+ There seem to be employee attrition within those of younger ages (average off 33 years and younger). It could mean that young employees have more freedom to move from one company to another.\n",
    "\n",
    "4. **Is Income the main factor towards employee attrition?**\n",
    "+  On the average, employees with lower salary ranges tend to stop working at the company. There seems to be a strong relationship and it can be considered an important factor affecting employee attrition. I believe it is the main factor\n",
    "\n",
    "5. **How does work-life balance impact the overall attrition rate?**\n",
    "+ There do not seem to be any relationship between attrition and work life balance so we can say work life balance has little or no impact on the overall attrition rate"
   ]
  },
  {
   "cell_type": "code",
   "execution_count": null,
   "id": "8f4b12b6",
   "metadata": {},
   "outputs": [],
   "source": []
  }
 ],
 "metadata": {
  "kernelspec": {
   "display_name": "Python 3 (ipykernel)",
   "language": "python",
   "name": "python3"
  },
  "language_info": {
   "codemirror_mode": {
    "name": "ipython",
    "version": 3
   },
   "file_extension": ".py",
   "mimetype": "text/x-python",
   "name": "python",
   "nbconvert_exporter": "python",
   "pygments_lexer": "ipython3",
   "version": "3.8.13"
  }
 },
 "nbformat": 4,
 "nbformat_minor": 5
}
